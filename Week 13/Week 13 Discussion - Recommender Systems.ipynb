{
 "cells": [
  {
   "cell_type": "markdown",
   "metadata": {},
   "source": [
    "# Week 13 Discussion "
   ]
  },
  {
   "cell_type": "markdown",
   "metadata": {},
   "source": [
    "## 1. Identify a recommender system web site, then"
   ]
  },
  {
   "cell_type": "markdown",
   "metadata": {},
   "source": [
    "The site I chose is Spotify.  It is an audio and media streaming service. You can use spotify for free but that comes with less features and ads. Spotify Premium has better quality audio, ability to listen offline, and allows the user to skip songs."
   ]
  },
  {
   "cell_type": "markdown",
   "metadata": {},
   "source": [
    "## 2. Answer the three scenario design questions for this web site:\n",
    "\n",
    "### Who are your target users?    "
   ]
  },
  {
   "cell_type": "markdown",
   "metadata": {},
   "source": [
    "Spotify's target users are anyone who wants to listen to music/podcasts."
   ]
  },
  {
   "cell_type": "markdown",
   "metadata": {},
   "source": [
    "### What are their key goals?"
   ]
  },
  {
   "cell_type": "markdown",
   "metadata": {},
   "source": [
    "The customers key goals are to listen to music/podcasts for free or for a reasonable amount of money, the ability to listen to various high quality types of music/podcasts on demand."
   ]
  },
  {
   "cell_type": "markdown",
   "metadata": {},
   "source": [
    "### How can you help them accomplish those goals?"
   ]
  },
  {
   "cell_type": "markdown",
   "metadata": {},
   "source": [
    "Create algorithms based on track representations and user representations. Spotify uses content-based and collaborative filtering for their track representations and generate user taste profiles through \"explicit, or active feedback: library saves, playlist adds, shares, skips, click-through to artist/album page, artist follows, \"downstream\" plays \n",
    "Implicit, or passive feedback: listening sessions length, track playthrough, and repeat listens.\" In doing so, they will keep their customers happy and generate revenue by offering what the customer wants."
   ]
  },
  {
   "cell_type": "markdown",
   "metadata": {},
   "source": [
    "Reference: Pastukhov, D. (2022, February 9). How Spotify's algorithm works? A Complete Guide to spotify recommendation system [2022]: Music tomorrow blog. How Spotify's Algorithm Works? A Complete Guide to Spotify Recommendation System [2022] | Music Tomorrow Blog. Retrieved May 4, 2022, from https://www.music-tomorrow.com/blog/how-spotify-recommendation-system-works-a-complete-guide-2022 "
   ]
  }
 ],
 "metadata": {
  "kernelspec": {
   "display_name": "Python 3",
   "language": "python",
   "name": "python3"
  },
  "language_info": {
   "codemirror_mode": {
    "name": "ipython",
    "version": 3
   },
   "file_extension": ".py",
   "mimetype": "text/x-python",
   "name": "python",
   "nbconvert_exporter": "python",
   "pygments_lexer": "ipython3",
   "version": "3.8.3"
  }
 },
 "nbformat": 4,
 "nbformat_minor": 4
}
