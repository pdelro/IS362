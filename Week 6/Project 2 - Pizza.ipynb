{
 "cells": [
  {
   "cell_type": "markdown",
   "metadata": {},
   "source": [
    "## Project 2 \n",
    "\n",
    "I have chosen the following untidy datasets: pizza data, student results, and video game sales\n",
    "\n",
    "The following is my analysis of the pizza data"
   ]
  },
  {
   "cell_type": "code",
   "execution_count": 1,
   "metadata": {},
   "outputs": [],
   "source": [
    "import pandas as pd\n",
    "import numpy as np\n",
    "import seaborn as sns\n",
    "import matplotlib.pyplot as plt"
   ]
  },
  {
   "cell_type": "code",
   "execution_count": 2,
   "metadata": {},
   "outputs": [],
   "source": [
    "pizza = pd.read_csv(\"https://raw.githubusercontent.com/pdelro/IS362/main/Week%206/pizza_data.csv\")"
   ]
  },
  {
   "cell_type": "markdown",
   "metadata": {},
   "source": [
    "To display the types of data in the file, I will just show the first five entries\n"
   ]
  },
  {
   "cell_type": "code",
   "execution_count": 3,
   "metadata": {},
   "outputs": [
    {
     "data": {
      "text/html": [
       "<div>\n",
       "<style scoped>\n",
       "    .dataframe tbody tr th:only-of-type {\n",
       "        vertical-align: middle;\n",
       "    }\n",
       "\n",
       "    .dataframe tbody tr th {\n",
       "        vertical-align: top;\n",
       "    }\n",
       "\n",
       "    .dataframe thead th {\n",
       "        text-align: right;\n",
       "    }\n",
       "</style>\n",
       "<table border=\"1\" class=\"dataframe\">\n",
       "  <thead>\n",
       "    <tr style=\"text-align: right;\">\n",
       "      <th></th>\n",
       "      <th>Company</th>\n",
       "      <th>Pizza Name</th>\n",
       "      <th>Type</th>\n",
       "      <th>Size</th>\n",
       "      <th>Price</th>\n",
       "    </tr>\n",
       "  </thead>\n",
       "  <tbody>\n",
       "    <tr>\n",
       "      <th>0</th>\n",
       "      <td>Domino's Pizza</td>\n",
       "      <td>Hand Tossed</td>\n",
       "      <td>Cheeses Pizza</td>\n",
       "      <td>Small (10\")</td>\n",
       "      <td>$5.99</td>\n",
       "    </tr>\n",
       "    <tr>\n",
       "      <th>1</th>\n",
       "      <td>Domino's Pizza</td>\n",
       "      <td>Hand Tossed</td>\n",
       "      <td>Cheeses Pizza</td>\n",
       "      <td>Medium (12\")</td>\n",
       "      <td>$7.99</td>\n",
       "    </tr>\n",
       "    <tr>\n",
       "      <th>2</th>\n",
       "      <td>Domino's Pizza</td>\n",
       "      <td>Hand Tossed</td>\n",
       "      <td>Cheeses Pizza</td>\n",
       "      <td>Large (14\")</td>\n",
       "      <td>$9.99</td>\n",
       "    </tr>\n",
       "    <tr>\n",
       "      <th>3</th>\n",
       "      <td>Domino's Pizza</td>\n",
       "      <td>Handmade Pan</td>\n",
       "      <td>Cheeses Pizza</td>\n",
       "      <td>Medium (12\")</td>\n",
       "      <td>$7.99</td>\n",
       "    </tr>\n",
       "    <tr>\n",
       "      <th>4</th>\n",
       "      <td>Domino's Pizza</td>\n",
       "      <td>Crunchy Thin Crust</td>\n",
       "      <td>Cheeses Pizza</td>\n",
       "      <td>Small (10\")</td>\n",
       "      <td>$5.99</td>\n",
       "    </tr>\n",
       "  </tbody>\n",
       "</table>\n",
       "</div>"
      ],
      "text/plain": [
       "          Company          Pizza Name           Type          Size  Price\n",
       "0  Domino's Pizza         Hand Tossed  Cheeses Pizza   Small (10\")  $5.99\n",
       "1  Domino's Pizza         Hand Tossed  Cheeses Pizza  Medium (12\")  $7.99\n",
       "2  Domino's Pizza         Hand Tossed  Cheeses Pizza   Large (14\")  $9.99\n",
       "3  Domino's Pizza        Handmade Pan  Cheeses Pizza  Medium (12\")  $7.99\n",
       "4  Domino's Pizza  Crunchy Thin Crust  Cheeses Pizza   Small (10\")  $5.99"
      ]
     },
     "execution_count": 3,
     "metadata": {},
     "output_type": "execute_result"
    }
   ],
   "source": [
    "pizza.head()"
   ]
  },
  {
   "cell_type": "markdown",
   "metadata": {},
   "source": [
    "I will now determine if there are any NaN values in the DataFrame\n"
   ]
  },
  {
   "cell_type": "code",
   "execution_count": 4,
   "metadata": {},
   "outputs": [
    {
     "data": {
      "text/plain": [
       "Company       0\n",
       "Pizza Name    0\n",
       "Type          0\n",
       "Size          0\n",
       "Price         0\n",
       "dtype: int64"
      ]
     },
     "execution_count": 4,
     "metadata": {},
     "output_type": "execute_result"
    }
   ],
   "source": [
    "pizza.isnull().sum()"
   ]
  },
  {
   "cell_type": "markdown",
   "metadata": {},
   "source": [
    "To analyze the data, I will now identify how many unique variables there are in each category\n"
   ]
  },
  {
   "cell_type": "code",
   "execution_count": 5,
   "metadata": {},
   "outputs": [
    {
     "data": {
      "text/plain": [
       "Company         4\n",
       "Pizza Name    247\n",
       "Type            9\n",
       "Size           11\n",
       "Price          56\n",
       "dtype: int64"
      ]
     },
     "execution_count": 5,
     "metadata": {},
     "output_type": "execute_result"
    }
   ],
   "source": [
    "pizza.nunique()"
   ]
  },
  {
   "cell_type": "markdown",
   "metadata": {},
   "source": [
    "I will now identify the unique companies\n"
   ]
  },
  {
   "cell_type": "code",
   "execution_count": 6,
   "metadata": {},
   "outputs": [
    {
     "data": {
      "text/plain": [
       "array([\"Domino's Pizza\", 'Pizza Hut', \"Godfather's Pizza\", \"IMO's Pizza\"],\n",
       "      dtype=object)"
      ]
     },
     "execution_count": 6,
     "metadata": {},
     "output_type": "execute_result"
    }
   ],
   "source": [
    "companies = (pizza['Company'].unique())\n",
    "companies"
   ]
  },
  {
   "cell_type": "markdown",
   "metadata": {},
   "source": [
    "I will now identify which company has the most kinds of pizza and display it in a graph\n"
   ]
  },
  {
   "cell_type": "code",
   "execution_count": 7,
   "metadata": {},
   "outputs": [
    {
     "data": {
      "image/png": "[encoded data removed]",
      "text/plain": [
       "<Figure size 576x360 with 1 Axes>"
      ]
     },
     "metadata": {
      "needs_background": "light"
     },
     "output_type": "display_data"
    }
   ],
   "source": [
    "plt.figure(figsize = (8,5))\n",
    "pizza_count = sns.countplot(pizza['Company'])\n"
   ]
  },
  {
   "cell_type": "markdown",
   "metadata": {},
   "source": [
    "According to the bar graph, Godfather's Pizza has the most kinds of pizza.\n",
    "\n",
    "I will now identify the unique types of pizza\n"
   ]
  },
  {
   "cell_type": "code",
   "execution_count": 8,
   "metadata": {},
   "outputs": [
    {
     "data": {
      "text/plain": [
       "array(['Cheeses Pizza', 'Specialty Pizzas', 'Feast Pizzas',\n",
       "       'Cheese Pizza', 'Classic Recipe Pizzas', 'New Recipe Pizzas',\n",
       "       'Skinny Pizzas', 'Gluten-Free Pizzas', 'Express Favorites'],\n",
       "      dtype=object)"
      ]
     },
     "execution_count": 8,
     "metadata": {},
     "output_type": "execute_result"
    }
   ],
   "source": [
    "types = (pizza['Type'].unique())\n",
    "types"
   ]
  },
  {
   "cell_type": "markdown",
   "metadata": {},
   "source": [
    "I will now show how many pizzas there are of each type and display it in a bar graph\n"
   ]
  },
  {
   "cell_type": "code",
   "execution_count": 9,
   "metadata": {},
   "outputs": [
    {
     "data": {
      "image/png": "[encoded data removed]",
      "text/plain": [
       "<Figure size 1296x360 with 1 Axes>"
      ]
     },
     "metadata": {
      "needs_background": "light"
     },
     "output_type": "display_data"
    }
   ],
   "source": [
    "plt.figure(figsize = (18,5))\n",
    "pizza_type = sns.countplot(pizza['Type'])"
   ]
  },
  {
   "cell_type": "markdown",
   "metadata": {},
   "source": [
    "Specialty pizzas is the most prevalent\n",
    "\n",
    "I will now identify the different sizes of pizza\n"
   ]
  },
  {
   "cell_type": "code",
   "execution_count": 10,
   "metadata": {},
   "outputs": [
    {
     "data": {
      "text/plain": [
       "array(['Small (10\")', 'Medium (12\")', 'Large (14\")', 'X-Large (16\")',\n",
       "       'Medium', 'Large', 'Personal', 'Small', 'Mini', 'Jumbo',\n",
       "       'X Large (16\")'], dtype=object)"
      ]
     },
     "execution_count": 10,
     "metadata": {},
     "output_type": "execute_result"
    }
   ],
   "source": [
    "sizes = (pizza['Size'].unique())\n",
    "sizes"
   ]
  },
  {
   "cell_type": "markdown",
   "metadata": {},
   "source": [
    "I'm going to clean up the size descriptions by excluding the pizza diameters"
   ]
  },
  {
   "cell_type": "code",
   "execution_count": 11,
   "metadata": {},
   "outputs": [
    {
     "data": {
      "text/plain": [
       "array(['Small', 'Medium', 'Large', 'X-Large', 'Personal', 'Mini', 'Jumbo',\n",
       "       'X Large'], dtype=object)"
      ]
     },
     "execution_count": 11,
     "metadata": {},
     "output_type": "execute_result"
    }
   ],
   "source": [
    "def mod_size(size):\n",
    "    return size.split(\" (\")[0]\n",
    "pizza['Size'] = pizza['Size'].apply(lambda x: mod_size(x))\n",
    "\n",
    "#show that they have been consolidated\n",
    "sizes = (pizza['Size'].unique())\n",
    "sizes"
   ]
  },
  {
   "cell_type": "markdown",
   "metadata": {},
   "source": [
    "There is still a duplicate. I will now consolidate the X Large by replacing the variable name"
   ]
  },
  {
   "cell_type": "code",
   "execution_count": 12,
   "metadata": {},
   "outputs": [
    {
     "data": {
      "text/plain": [
       "array(['Small', 'Medium', 'Large', 'X Large', 'Personal', 'Mini', 'Jumbo'],\n",
       "      dtype=object)"
      ]
     },
     "execution_count": 12,
     "metadata": {},
     "output_type": "execute_result"
    }
   ],
   "source": [
    "pizza['Size'] = pizza['Size'].replace(['X-Large'], 'X Large')\n",
    "consolidated_sizes = (pizza['Size'].unique())\n",
    "consolidated_sizes"
   ]
  },
  {
   "cell_type": "markdown",
   "metadata": {},
   "source": [
    "I will now display the number of each size pizza in a bar graph"
   ]
  },
  {
   "cell_type": "code",
   "execution_count": 13,
   "metadata": {},
   "outputs": [
    {
     "data": {
      "image/png": "[encoded data removed]",
      "text/plain": [
       "<Figure size 720x360 with 1 Axes>"
      ]
     },
     "metadata": {
      "needs_background": "light"
     },
     "output_type": "display_data"
    }
   ],
   "source": [
    "plt.figure(figsize = (10,5))\n",
    "pizza_size = sns.countplot(pizza['Size'])"
   ]
  },
  {
   "cell_type": "markdown",
   "metadata": {},
   "source": [
    "Lastly, I will sort the pizzas by size and price for each company"
   ]
  },
  {
   "cell_type": "code",
   "execution_count": 14,
   "metadata": {},
   "outputs": [
    {
     "data": {
      "text/html": [
       "<div>\n",
       "<style scoped>\n",
       "    .dataframe tbody tr th:only-of-type {\n",
       "        vertical-align: middle;\n",
       "    }\n",
       "\n",
       "    .dataframe tbody tr th {\n",
       "        vertical-align: top;\n",
       "    }\n",
       "\n",
       "    .dataframe thead th {\n",
       "        text-align: right;\n",
       "    }\n",
       "</style>\n",
       "<table border=\"1\" class=\"dataframe\">\n",
       "  <thead>\n",
       "    <tr style=\"text-align: right;\">\n",
       "      <th></th>\n",
       "      <th>Company</th>\n",
       "      <th>Pizza Name</th>\n",
       "      <th>Type</th>\n",
       "      <th>Size</th>\n",
       "      <th>Price</th>\n",
       "    </tr>\n",
       "  </thead>\n",
       "  <tbody>\n",
       "    <tr>\n",
       "      <th>13</th>\n",
       "      <td>Domino's Pizza</td>\n",
       "      <td>Spinach &amp; Feta (Brooklyn Style)</td>\n",
       "      <td>Specialty Pizzas</td>\n",
       "      <td>X Large</td>\n",
       "      <td>$17.99</td>\n",
       "    </tr>\n",
       "    <tr>\n",
       "      <th>18</th>\n",
       "      <td>Domino's Pizza</td>\n",
       "      <td>Wisconsin 6 Cheese (Brooklyn Style)</td>\n",
       "      <td>Specialty Pizzas</td>\n",
       "      <td>X Large</td>\n",
       "      <td>$17.99</td>\n",
       "    </tr>\n",
       "    <tr>\n",
       "      <th>23</th>\n",
       "      <td>Domino's Pizza</td>\n",
       "      <td>Honolulu Hawaiian (Brooklyn Style)</td>\n",
       "      <td>Specialty Pizzas</td>\n",
       "      <td>X Large</td>\n",
       "      <td>$17.99</td>\n",
       "    </tr>\n",
       "    <tr>\n",
       "      <th>28</th>\n",
       "      <td>Domino's Pizza</td>\n",
       "      <td>Philly Cheese Steak (Brooklyn Style)</td>\n",
       "      <td>Specialty Pizzas</td>\n",
       "      <td>X Large</td>\n",
       "      <td>$17.99</td>\n",
       "    </tr>\n",
       "    <tr>\n",
       "      <th>33</th>\n",
       "      <td>Domino's Pizza</td>\n",
       "      <td>Pacific Veggie (Brooklyn Style)</td>\n",
       "      <td>Specialty Pizzas</td>\n",
       "      <td>X Large</td>\n",
       "      <td>$17.99</td>\n",
       "    </tr>\n",
       "    <tr>\n",
       "      <th>...</th>\n",
       "      <td>...</td>\n",
       "      <td>...</td>\n",
       "      <td>...</td>\n",
       "      <td>...</td>\n",
       "      <td>...</td>\n",
       "    </tr>\n",
       "    <tr>\n",
       "      <th>64</th>\n",
       "      <td>Domino's Pizza</td>\n",
       "      <td>Bacon Cheeseburger Feast® (Hand Tossed, Thin C...</td>\n",
       "      <td>Feast Pizzas</td>\n",
       "      <td>Large</td>\n",
       "      <td>$15.99</td>\n",
       "    </tr>\n",
       "    <tr>\n",
       "      <th>70</th>\n",
       "      <td>Domino's Pizza</td>\n",
       "      <td>Deluxe Feast® (Hand Tossed, Thin Crust or Broo...</td>\n",
       "      <td>Feast Pizzas</td>\n",
       "      <td>Large</td>\n",
       "      <td>$15.99</td>\n",
       "    </tr>\n",
       "    <tr>\n",
       "      <th>75</th>\n",
       "      <td>Domino's Pizza</td>\n",
       "      <td>ExtravaganZZa Feast® (Hand Tossed, Thin Crust ...</td>\n",
       "      <td>Feast Pizzas</td>\n",
       "      <td>Large</td>\n",
       "      <td>$15.99</td>\n",
       "    </tr>\n",
       "    <tr>\n",
       "      <th>80</th>\n",
       "      <td>Domino's Pizza</td>\n",
       "      <td>MeatZZa Feast® (Hand Tossed, Thin Crust or Bro...</td>\n",
       "      <td>Feast Pizzas</td>\n",
       "      <td>Large</td>\n",
       "      <td>$15.99</td>\n",
       "    </tr>\n",
       "    <tr>\n",
       "      <th>85</th>\n",
       "      <td>Domino's Pizza</td>\n",
       "      <td>Ultimate Pepperoni Feast™ (Hand Tossed, Thin C...</td>\n",
       "      <td>Feast Pizzas</td>\n",
       "      <td>Large</td>\n",
       "      <td>$15.99</td>\n",
       "    </tr>\n",
       "  </tbody>\n",
       "</table>\n",
       "<p>88 rows × 5 columns</p>\n",
       "</div>"
      ],
      "text/plain": [
       "           Company                                         Pizza Name  \\\n",
       "13  Domino's Pizza                    Spinach & Feta (Brooklyn Style)   \n",
       "18  Domino's Pizza                Wisconsin 6 Cheese (Brooklyn Style)   \n",
       "23  Domino's Pizza                 Honolulu Hawaiian (Brooklyn Style)   \n",
       "28  Domino's Pizza               Philly Cheese Steak (Brooklyn Style)   \n",
       "33  Domino's Pizza                    Pacific Veggie (Brooklyn Style)   \n",
       "..             ...                                                ...   \n",
       "64  Domino's Pizza  Bacon Cheeseburger Feast® (Hand Tossed, Thin C...   \n",
       "70  Domino's Pizza  Deluxe Feast® (Hand Tossed, Thin Crust or Broo...   \n",
       "75  Domino's Pizza  ExtravaganZZa Feast® (Hand Tossed, Thin Crust ...   \n",
       "80  Domino's Pizza  MeatZZa Feast® (Hand Tossed, Thin Crust or Bro...   \n",
       "85  Domino's Pizza  Ultimate Pepperoni Feast™ (Hand Tossed, Thin C...   \n",
       "\n",
       "                Type     Size   Price  \n",
       "13  Specialty Pizzas  X Large  $17.99  \n",
       "18  Specialty Pizzas  X Large  $17.99  \n",
       "23  Specialty Pizzas  X Large  $17.99  \n",
       "28  Specialty Pizzas  X Large  $17.99  \n",
       "33  Specialty Pizzas  X Large  $17.99  \n",
       "..               ...      ...     ...  \n",
       "64      Feast Pizzas    Large  $15.99  \n",
       "70      Feast Pizzas    Large  $15.99  \n",
       "75      Feast Pizzas    Large  $15.99  \n",
       "80      Feast Pizzas    Large  $15.99  \n",
       "85      Feast Pizzas    Large  $15.99  \n",
       "\n",
       "[88 rows x 5 columns]"
      ]
     },
     "execution_count": 14,
     "metadata": {},
     "output_type": "execute_result"
    }
   ],
   "source": [
    "dominos = pizza[(pizza[\"Company\"]==\"Domino's Pizza\")]\n",
    "dominos.sort_values(by = [\"Size\", 'Price'], ascending=False)"
   ]
  },
  {
   "cell_type": "code",
   "execution_count": 15,
   "metadata": {},
   "outputs": [
    {
     "data": {
      "text/html": [
       "<div>\n",
       "<style scoped>\n",
       "    .dataframe tbody tr th:only-of-type {\n",
       "        vertical-align: middle;\n",
       "    }\n",
       "\n",
       "    .dataframe tbody tr th {\n",
       "        vertical-align: top;\n",
       "    }\n",
       "\n",
       "    .dataframe thead th {\n",
       "        text-align: right;\n",
       "    }\n",
       "</style>\n",
       "<table border=\"1\" class=\"dataframe\">\n",
       "  <thead>\n",
       "    <tr style=\"text-align: right;\">\n",
       "      <th></th>\n",
       "      <th>Company</th>\n",
       "      <th>Pizza Name</th>\n",
       "      <th>Type</th>\n",
       "      <th>Size</th>\n",
       "      <th>Price</th>\n",
       "    </tr>\n",
       "  </thead>\n",
       "  <tbody>\n",
       "    <tr>\n",
       "      <th>213</th>\n",
       "      <td>Pizza Hut</td>\n",
       "      <td>Create Your Own (Gluten-Free Crust)</td>\n",
       "      <td>Gluten-Free Pizzas</td>\n",
       "      <td>Small</td>\n",
       "      <td>$9.99</td>\n",
       "    </tr>\n",
       "    <tr>\n",
       "      <th>153</th>\n",
       "      <td>Pizza Hut</td>\n",
       "      <td>Chicken Supreme Pizza (Pan Pizza)</td>\n",
       "      <td>Classic Recipe Pizzas</td>\n",
       "      <td>Personal</td>\n",
       "      <td>$5.29</td>\n",
       "    </tr>\n",
       "    <tr>\n",
       "      <th>180</th>\n",
       "      <td>Pizza Hut</td>\n",
       "      <td>Super Supreme Pizza (Pan Pizza)</td>\n",
       "      <td>Classic Recipe Pizzas</td>\n",
       "      <td>Personal</td>\n",
       "      <td>$5.29</td>\n",
       "    </tr>\n",
       "    <tr>\n",
       "      <th>99</th>\n",
       "      <td>Pizza Hut</td>\n",
       "      <td>Pepperoni Lover's® Pizza (Pan Pizza)</td>\n",
       "      <td>Classic Recipe Pizzas</td>\n",
       "      <td>Personal</td>\n",
       "      <td>$4.79</td>\n",
       "    </tr>\n",
       "    <tr>\n",
       "      <th>108</th>\n",
       "      <td>Pizza Hut</td>\n",
       "      <td>Meat Lover's® Pizza (Pan Pizza)</td>\n",
       "      <td>Classic Recipe Pizzas</td>\n",
       "      <td>Personal</td>\n",
       "      <td>$4.79</td>\n",
       "    </tr>\n",
       "    <tr>\n",
       "      <th>...</th>\n",
       "      <td>...</td>\n",
       "      <td>...</td>\n",
       "      <td>...</td>\n",
       "      <td>...</td>\n",
       "      <td>...</td>\n",
       "    </tr>\n",
       "    <tr>\n",
       "      <th>95</th>\n",
       "      <td>Pizza Hut</td>\n",
       "      <td>Stuffed Crust</td>\n",
       "      <td>Cheese Pizza</td>\n",
       "      <td>Large</td>\n",
       "      <td>$12.49</td>\n",
       "    </tr>\n",
       "    <tr>\n",
       "      <th>89</th>\n",
       "      <td>Pizza Hut</td>\n",
       "      <td>Hand-Tossed</td>\n",
       "      <td>Cheese Pizza</td>\n",
       "      <td>Large</td>\n",
       "      <td>$10.49</td>\n",
       "    </tr>\n",
       "    <tr>\n",
       "      <th>92</th>\n",
       "      <td>Pizza Hut</td>\n",
       "      <td>Pan Pizza</td>\n",
       "      <td>Cheese Pizza</td>\n",
       "      <td>Large</td>\n",
       "      <td>$10.49</td>\n",
       "    </tr>\n",
       "    <tr>\n",
       "      <th>94</th>\n",
       "      <td>Pizza Hut</td>\n",
       "      <td>Thin N Crispy</td>\n",
       "      <td>Cheese Pizza</td>\n",
       "      <td>Large</td>\n",
       "      <td>$10.49</td>\n",
       "    </tr>\n",
       "    <tr>\n",
       "      <th>96</th>\n",
       "      <td>Pizza Hut</td>\n",
       "      <td>Skinny Slice</td>\n",
       "      <td>Cheese Pizza</td>\n",
       "      <td>Large</td>\n",
       "      <td>$10.49</td>\n",
       "    </tr>\n",
       "  </tbody>\n",
       "</table>\n",
       "<p>126 rows × 5 columns</p>\n",
       "</div>"
      ],
      "text/plain": [
       "       Company                            Pizza Name                   Type  \\\n",
       "213  Pizza Hut   Create Your Own (Gluten-Free Crust)     Gluten-Free Pizzas   \n",
       "153  Pizza Hut     Chicken Supreme Pizza (Pan Pizza)  Classic Recipe Pizzas   \n",
       "180  Pizza Hut       Super Supreme Pizza (Pan Pizza)  Classic Recipe Pizzas   \n",
       "99   Pizza Hut  Pepperoni Lover's® Pizza (Pan Pizza)  Classic Recipe Pizzas   \n",
       "108  Pizza Hut       Meat Lover's® Pizza (Pan Pizza)  Classic Recipe Pizzas   \n",
       "..         ...                                   ...                    ...   \n",
       "95   Pizza Hut                         Stuffed Crust           Cheese Pizza   \n",
       "89   Pizza Hut                           Hand-Tossed           Cheese Pizza   \n",
       "92   Pizza Hut                             Pan Pizza           Cheese Pizza   \n",
       "94   Pizza Hut                         Thin N Crispy           Cheese Pizza   \n",
       "96   Pizza Hut                          Skinny Slice           Cheese Pizza   \n",
       "\n",
       "         Size   Price  \n",
       "213     Small   $9.99  \n",
       "153  Personal   $5.29  \n",
       "180  Personal   $5.29  \n",
       "99   Personal   $4.79  \n",
       "108  Personal   $4.79  \n",
       "..        ...     ...  \n",
       "95      Large  $12.49  \n",
       "89      Large  $10.49  \n",
       "92      Large  $10.49  \n",
       "94      Large  $10.49  \n",
       "96      Large  $10.49  \n",
       "\n",
       "[126 rows x 5 columns]"
      ]
     },
     "execution_count": 15,
     "metadata": {},
     "output_type": "execute_result"
    }
   ],
   "source": [
    "pizza_hut = pizza[(pizza[\"Company\"] == \"Pizza Hut\")]\n",
    "pizza_hut.sort_values(by = [\"Size\", 'Price'], ascending=False)"
   ]
  },
  {
   "cell_type": "code",
   "execution_count": 16,
   "metadata": {},
   "outputs": [
    {
     "data": {
      "text/html": [
       "<div>\n",
       "<style scoped>\n",
       "    .dataframe tbody tr th:only-of-type {\n",
       "        vertical-align: middle;\n",
       "    }\n",
       "\n",
       "    .dataframe tbody tr th {\n",
       "        vertical-align: top;\n",
       "    }\n",
       "\n",
       "    .dataframe thead th {\n",
       "        text-align: right;\n",
       "    }\n",
       "</style>\n",
       "<table border=\"1\" class=\"dataframe\">\n",
       "  <thead>\n",
       "    <tr style=\"text-align: right;\">\n",
       "      <th></th>\n",
       "      <th>Company</th>\n",
       "      <th>Pizza Name</th>\n",
       "      <th>Type</th>\n",
       "      <th>Size</th>\n",
       "      <th>Price</th>\n",
       "    </tr>\n",
       "  </thead>\n",
       "  <tbody>\n",
       "    <tr>\n",
       "      <th>290</th>\n",
       "      <td>Godfather's Pizza</td>\n",
       "      <td>Super Combo Pizza (Original or Golden Crust)</td>\n",
       "      <td>Specialty Pizzas</td>\n",
       "      <td>Small</td>\n",
       "      <td>$16.99</td>\n",
       "    </tr>\n",
       "    <tr>\n",
       "      <th>296</th>\n",
       "      <td>Godfather's Pizza</td>\n",
       "      <td>Super Hawaiian Pizza (Original or Golden Crust)</td>\n",
       "      <td>Specialty Pizzas</td>\n",
       "      <td>Small</td>\n",
       "      <td>$16.99</td>\n",
       "    </tr>\n",
       "    <tr>\n",
       "      <th>302</th>\n",
       "      <td>Godfather's Pizza</td>\n",
       "      <td>Super Taco Pizza (Original or Golden Crust)</td>\n",
       "      <td>Specialty Pizzas</td>\n",
       "      <td>Small</td>\n",
       "      <td>$16.99</td>\n",
       "    </tr>\n",
       "    <tr>\n",
       "      <th>308</th>\n",
       "      <td>Godfather's Pizza</td>\n",
       "      <td>The Don (Original or Golden Crust)</td>\n",
       "      <td>Specialty Pizzas</td>\n",
       "      <td>Small</td>\n",
       "      <td>$16.99</td>\n",
       "    </tr>\n",
       "    <tr>\n",
       "      <th>222</th>\n",
       "      <td>Godfather's Pizza</td>\n",
       "      <td>All-Meat Combo Pizza (Original or Golden Crust)</td>\n",
       "      <td>Specialty Pizzas</td>\n",
       "      <td>Small</td>\n",
       "      <td>$15.99</td>\n",
       "    </tr>\n",
       "    <tr>\n",
       "      <th>...</th>\n",
       "      <td>...</td>\n",
       "      <td>...</td>\n",
       "      <td>...</td>\n",
       "      <td>...</td>\n",
       "      <td>...</td>\n",
       "    </tr>\n",
       "    <tr>\n",
       "      <th>289</th>\n",
       "      <td>Godfather's Pizza</td>\n",
       "      <td>Buffalo Chicken Pizza (Original or Thin Crust)</td>\n",
       "      <td>Specialty Pizzas</td>\n",
       "      <td>Jumbo</td>\n",
       "      <td>$27.99</td>\n",
       "    </tr>\n",
       "    <tr>\n",
       "      <th>326</th>\n",
       "      <td>Godfather's Pizza</td>\n",
       "      <td>BBQ Bacon Cheeseburger Pizza (Original, Golden...</td>\n",
       "      <td>Specialty Pizzas</td>\n",
       "      <td>Jumbo</td>\n",
       "      <td>$27.99</td>\n",
       "    </tr>\n",
       "    <tr>\n",
       "      <th>333</th>\n",
       "      <td>Godfather's Pizza</td>\n",
       "      <td>Chipotle Chicken and Bacon Pizza (Original, Go...</td>\n",
       "      <td>Specialty Pizzas</td>\n",
       "      <td>Jumbo</td>\n",
       "      <td>$27.99</td>\n",
       "    </tr>\n",
       "    <tr>\n",
       "      <th>346</th>\n",
       "      <td>Godfather's Pizza</td>\n",
       "      <td>Original or Thin Crust</td>\n",
       "      <td>Express Favorites</td>\n",
       "      <td>Jumbo</td>\n",
       "      <td>$21.99</td>\n",
       "    </tr>\n",
       "    <tr>\n",
       "      <th>220</th>\n",
       "      <td>Godfather's Pizza</td>\n",
       "      <td>Cheese (Original or Thin Crust)</td>\n",
       "      <td>Cheese Pizza</td>\n",
       "      <td>Jumbo</td>\n",
       "      <td>$18.99</td>\n",
       "    </tr>\n",
       "  </tbody>\n",
       "</table>\n",
       "<p>133 rows × 5 columns</p>\n",
       "</div>"
      ],
      "text/plain": [
       "               Company                                         Pizza Name  \\\n",
       "290  Godfather's Pizza       Super Combo Pizza (Original or Golden Crust)   \n",
       "296  Godfather's Pizza    Super Hawaiian Pizza (Original or Golden Crust)   \n",
       "302  Godfather's Pizza        Super Taco Pizza (Original or Golden Crust)   \n",
       "308  Godfather's Pizza                 The Don (Original or Golden Crust)   \n",
       "222  Godfather's Pizza    All-Meat Combo Pizza (Original or Golden Crust)   \n",
       "..                 ...                                                ...   \n",
       "289  Godfather's Pizza     Buffalo Chicken Pizza (Original or Thin Crust)   \n",
       "326  Godfather's Pizza  BBQ Bacon Cheeseburger Pizza (Original, Golden...   \n",
       "333  Godfather's Pizza  Chipotle Chicken and Bacon Pizza (Original, Go...   \n",
       "346  Godfather's Pizza                             Original or Thin Crust   \n",
       "220  Godfather's Pizza                    Cheese (Original or Thin Crust)   \n",
       "\n",
       "                  Type   Size   Price  \n",
       "290   Specialty Pizzas  Small  $16.99  \n",
       "296   Specialty Pizzas  Small  $16.99  \n",
       "302   Specialty Pizzas  Small  $16.99  \n",
       "308   Specialty Pizzas  Small  $16.99  \n",
       "222   Specialty Pizzas  Small  $15.99  \n",
       "..                 ...    ...     ...  \n",
       "289   Specialty Pizzas  Jumbo  $27.99  \n",
       "326   Specialty Pizzas  Jumbo  $27.99  \n",
       "333   Specialty Pizzas  Jumbo  $27.99  \n",
       "346  Express Favorites  Jumbo  $21.99  \n",
       "220       Cheese Pizza  Jumbo  $18.99  \n",
       "\n",
       "[133 rows x 5 columns]"
      ]
     },
     "execution_count": 16,
     "metadata": {},
     "output_type": "execute_result"
    }
   ],
   "source": [
    "godfathers = pizza[(pizza[\"Company\"]== \"Godfather's Pizza\")]\n",
    "godfathers.sort_values(by = [\"Size\", 'Price'], ascending=False)"
   ]
  },
  {
   "cell_type": "code",
   "execution_count": 17,
   "metadata": {},
   "outputs": [
    {
     "data": {
      "text/html": [
       "<div>\n",
       "<style scoped>\n",
       "    .dataframe tbody tr th:only-of-type {\n",
       "        vertical-align: middle;\n",
       "    }\n",
       "\n",
       "    .dataframe tbody tr th {\n",
       "        vertical-align: top;\n",
       "    }\n",
       "\n",
       "    .dataframe thead th {\n",
       "        text-align: right;\n",
       "    }\n",
       "</style>\n",
       "<table border=\"1\" class=\"dataframe\">\n",
       "  <thead>\n",
       "    <tr style=\"text-align: right;\">\n",
       "      <th></th>\n",
       "      <th>Company</th>\n",
       "      <th>Pizza Name</th>\n",
       "      <th>Type</th>\n",
       "      <th>Size</th>\n",
       "      <th>Price</th>\n",
       "    </tr>\n",
       "  </thead>\n",
       "  <tbody>\n",
       "    <tr>\n",
       "      <th>350</th>\n",
       "      <td>IMO's Pizza</td>\n",
       "      <td>Deluxe Pizza</td>\n",
       "      <td>Specialty Pizzas</td>\n",
       "      <td>X Large</td>\n",
       "      <td>$23.85</td>\n",
       "    </tr>\n",
       "    <tr>\n",
       "      <th>354</th>\n",
       "      <td>IMO's Pizza</td>\n",
       "      <td>Veggie Pizza</td>\n",
       "      <td>Specialty Pizzas</td>\n",
       "      <td>X Large</td>\n",
       "      <td>$23.85</td>\n",
       "    </tr>\n",
       "    <tr>\n",
       "      <th>362</th>\n",
       "      <td>IMO's Pizza</td>\n",
       "      <td>All Meat Pizza</td>\n",
       "      <td>Specialty Pizzas</td>\n",
       "      <td>X Large</td>\n",
       "      <td>$23.85</td>\n",
       "    </tr>\n",
       "    <tr>\n",
       "      <th>366</th>\n",
       "      <td>IMO's Pizza</td>\n",
       "      <td>BBQ Chicken Pizza</td>\n",
       "      <td>Specialty Pizzas</td>\n",
       "      <td>X Large</td>\n",
       "      <td>$23.85</td>\n",
       "    </tr>\n",
       "    <tr>\n",
       "      <th>370</th>\n",
       "      <td>IMO's Pizza</td>\n",
       "      <td>Egg-Ceptional Pizza</td>\n",
       "      <td>Specialty Pizzas</td>\n",
       "      <td>X Large</td>\n",
       "      <td>$22.30</td>\n",
       "    </tr>\n",
       "    <tr>\n",
       "      <th>358</th>\n",
       "      <td>IMO's Pizza</td>\n",
       "      <td>Cheese Pizza</td>\n",
       "      <td>Specialty Pizzas</td>\n",
       "      <td>X Large</td>\n",
       "      <td>$17.35</td>\n",
       "    </tr>\n",
       "    <tr>\n",
       "      <th>355</th>\n",
       "      <td>IMO's Pizza</td>\n",
       "      <td>Cheese Pizza</td>\n",
       "      <td>Specialty Pizzas</td>\n",
       "      <td>Small</td>\n",
       "      <td>$9.30</td>\n",
       "    </tr>\n",
       "    <tr>\n",
       "      <th>347</th>\n",
       "      <td>IMO's Pizza</td>\n",
       "      <td>Deluxe Pizza</td>\n",
       "      <td>Specialty Pizzas</td>\n",
       "      <td>Small</td>\n",
       "      <td>$12.70</td>\n",
       "    </tr>\n",
       "    <tr>\n",
       "      <th>351</th>\n",
       "      <td>IMO's Pizza</td>\n",
       "      <td>Veggie Pizza</td>\n",
       "      <td>Specialty Pizzas</td>\n",
       "      <td>Small</td>\n",
       "      <td>$12.70</td>\n",
       "    </tr>\n",
       "    <tr>\n",
       "      <th>359</th>\n",
       "      <td>IMO's Pizza</td>\n",
       "      <td>All Meat Pizza</td>\n",
       "      <td>Specialty Pizzas</td>\n",
       "      <td>Small</td>\n",
       "      <td>$12.70</td>\n",
       "    </tr>\n",
       "    <tr>\n",
       "      <th>363</th>\n",
       "      <td>IMO's Pizza</td>\n",
       "      <td>BBQ Chicken Pizza</td>\n",
       "      <td>Specialty Pizzas</td>\n",
       "      <td>Small</td>\n",
       "      <td>$12.70</td>\n",
       "    </tr>\n",
       "    <tr>\n",
       "      <th>367</th>\n",
       "      <td>IMO's Pizza</td>\n",
       "      <td>Egg-Ceptional Pizza</td>\n",
       "      <td>Specialty Pizzas</td>\n",
       "      <td>Small</td>\n",
       "      <td>$11.80</td>\n",
       "    </tr>\n",
       "    <tr>\n",
       "      <th>348</th>\n",
       "      <td>IMO's Pizza</td>\n",
       "      <td>Deluxe Pizza</td>\n",
       "      <td>Specialty Pizzas</td>\n",
       "      <td>Medium</td>\n",
       "      <td>$16.20</td>\n",
       "    </tr>\n",
       "    <tr>\n",
       "      <th>352</th>\n",
       "      <td>IMO's Pizza</td>\n",
       "      <td>Veggie Pizza</td>\n",
       "      <td>Specialty Pizzas</td>\n",
       "      <td>Medium</td>\n",
       "      <td>$16.20</td>\n",
       "    </tr>\n",
       "    <tr>\n",
       "      <th>360</th>\n",
       "      <td>IMO's Pizza</td>\n",
       "      <td>All Meat Pizza</td>\n",
       "      <td>Specialty Pizzas</td>\n",
       "      <td>Medium</td>\n",
       "      <td>$16.20</td>\n",
       "    </tr>\n",
       "    <tr>\n",
       "      <th>364</th>\n",
       "      <td>IMO's Pizza</td>\n",
       "      <td>BBQ Chicken Pizza</td>\n",
       "      <td>Specialty Pizzas</td>\n",
       "      <td>Medium</td>\n",
       "      <td>$16.20</td>\n",
       "    </tr>\n",
       "    <tr>\n",
       "      <th>368</th>\n",
       "      <td>IMO's Pizza</td>\n",
       "      <td>Egg-Ceptional Pizza</td>\n",
       "      <td>Specialty Pizzas</td>\n",
       "      <td>Medium</td>\n",
       "      <td>$14.95</td>\n",
       "    </tr>\n",
       "    <tr>\n",
       "      <th>356</th>\n",
       "      <td>IMO's Pizza</td>\n",
       "      <td>Cheese Pizza</td>\n",
       "      <td>Specialty Pizzas</td>\n",
       "      <td>Medium</td>\n",
       "      <td>$11.60</td>\n",
       "    </tr>\n",
       "    <tr>\n",
       "      <th>349</th>\n",
       "      <td>IMO's Pizza</td>\n",
       "      <td>Deluxe Pizza</td>\n",
       "      <td>Specialty Pizzas</td>\n",
       "      <td>Large</td>\n",
       "      <td>$19.95</td>\n",
       "    </tr>\n",
       "    <tr>\n",
       "      <th>353</th>\n",
       "      <td>IMO's Pizza</td>\n",
       "      <td>Veggie Pizza</td>\n",
       "      <td>Specialty Pizzas</td>\n",
       "      <td>Large</td>\n",
       "      <td>$19.95</td>\n",
       "    </tr>\n",
       "    <tr>\n",
       "      <th>361</th>\n",
       "      <td>IMO's Pizza</td>\n",
       "      <td>All Meat Pizza</td>\n",
       "      <td>Specialty Pizzas</td>\n",
       "      <td>Large</td>\n",
       "      <td>$19.95</td>\n",
       "    </tr>\n",
       "    <tr>\n",
       "      <th>365</th>\n",
       "      <td>IMO's Pizza</td>\n",
       "      <td>BBQ Chicken Pizza</td>\n",
       "      <td>Specialty Pizzas</td>\n",
       "      <td>Large</td>\n",
       "      <td>$19.20</td>\n",
       "    </tr>\n",
       "    <tr>\n",
       "      <th>369</th>\n",
       "      <td>IMO's Pizza</td>\n",
       "      <td>Egg-Ceptional Pizza</td>\n",
       "      <td>Specialty Pizzas</td>\n",
       "      <td>Large</td>\n",
       "      <td>$18.65</td>\n",
       "    </tr>\n",
       "    <tr>\n",
       "      <th>357</th>\n",
       "      <td>IMO's Pizza</td>\n",
       "      <td>Cheese Pizza</td>\n",
       "      <td>Specialty Pizzas</td>\n",
       "      <td>Large</td>\n",
       "      <td>$14.45</td>\n",
       "    </tr>\n",
       "  </tbody>\n",
       "</table>\n",
       "</div>"
      ],
      "text/plain": [
       "         Company           Pizza Name              Type     Size   Price\n",
       "350  IMO's Pizza         Deluxe Pizza  Specialty Pizzas  X Large  $23.85\n",
       "354  IMO's Pizza         Veggie Pizza  Specialty Pizzas  X Large  $23.85\n",
       "362  IMO's Pizza       All Meat Pizza  Specialty Pizzas  X Large  $23.85\n",
       "366  IMO's Pizza    BBQ Chicken Pizza  Specialty Pizzas  X Large  $23.85\n",
       "370  IMO's Pizza  Egg-Ceptional Pizza  Specialty Pizzas  X Large  $22.30\n",
       "358  IMO's Pizza         Cheese Pizza  Specialty Pizzas  X Large  $17.35\n",
       "355  IMO's Pizza         Cheese Pizza  Specialty Pizzas    Small   $9.30\n",
       "347  IMO's Pizza         Deluxe Pizza  Specialty Pizzas    Small  $12.70\n",
       "351  IMO's Pizza         Veggie Pizza  Specialty Pizzas    Small  $12.70\n",
       "359  IMO's Pizza       All Meat Pizza  Specialty Pizzas    Small  $12.70\n",
       "363  IMO's Pizza    BBQ Chicken Pizza  Specialty Pizzas    Small  $12.70\n",
       "367  IMO's Pizza  Egg-Ceptional Pizza  Specialty Pizzas    Small  $11.80\n",
       "348  IMO's Pizza         Deluxe Pizza  Specialty Pizzas   Medium  $16.20\n",
       "352  IMO's Pizza         Veggie Pizza  Specialty Pizzas   Medium  $16.20\n",
       "360  IMO's Pizza       All Meat Pizza  Specialty Pizzas   Medium  $16.20\n",
       "364  IMO's Pizza    BBQ Chicken Pizza  Specialty Pizzas   Medium  $16.20\n",
       "368  IMO's Pizza  Egg-Ceptional Pizza  Specialty Pizzas   Medium  $14.95\n",
       "356  IMO's Pizza         Cheese Pizza  Specialty Pizzas   Medium  $11.60\n",
       "349  IMO's Pizza         Deluxe Pizza  Specialty Pizzas    Large  $19.95\n",
       "353  IMO's Pizza         Veggie Pizza  Specialty Pizzas    Large  $19.95\n",
       "361  IMO's Pizza       All Meat Pizza  Specialty Pizzas    Large  $19.95\n",
       "365  IMO's Pizza    BBQ Chicken Pizza  Specialty Pizzas    Large  $19.20\n",
       "369  IMO's Pizza  Egg-Ceptional Pizza  Specialty Pizzas    Large  $18.65\n",
       "357  IMO's Pizza         Cheese Pizza  Specialty Pizzas    Large  $14.45"
      ]
     },
     "execution_count": 17,
     "metadata": {},
     "output_type": "execute_result"
    }
   ],
   "source": [
    "imos = pizza[(pizza[\"Company\"]== \"IMO's Pizza\")]\n",
    "imos.sort_values(by = [\"Size\", 'Price'], ascending=False)"
   ]
  }
 ],
 "metadata": {
  "kernelspec": {
   "display_name": "Python 3",
   "language": "python",
   "name": "python3"
  },
  "language_info": {
   "codemirror_mode": {
    "name": "ipython",
    "version": 3
   },
   "file_extension": ".py",
   "mimetype": "text/x-python",
   "name": "python",
   "nbconvert_exporter": "python",
   "pygments_lexer": "ipython3",
   "version": "3.8.3"
  }
 },
 "nbformat": 4,
 "nbformat_minor": 4
}
