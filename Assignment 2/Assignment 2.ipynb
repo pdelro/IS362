{
 "cells": [
  {
   "cell_type": "markdown",
   "metadata": {},
   "source": [
    "# Assignment 2\n",
    "\n",
    "Your week 2 assignment is to create a small Jupyter (IPython) Notebook about one aspect of data structures that you might find somewhat challenging, such as set comprehensions, or using the zip() function.  Your Jupyter Notebook should include both code and some documentation, which should utilize Markdown.  Your Jupyter Notebook should be hosted in GitHub; please provide a link in your assignment submission.\n",
    "\n",
    "## Zip() function\n",
    "\n",
    "According to W$^{3}$ schools, \"the zip() function returns a zip object, which is an iterator of tuples where the first item in each passed iterator is paired together, and then the second item in each passed iterator are paired together\" and \"if the passed iterators have different lengths, the iterator with the **least** items decides the length of the new iterator.\"\n",
    "#Code Examples\n"
   ]
  },
  {
   "cell_type": "code",
   "execution_count": 1,
   "metadata": {},
   "outputs": [
    {
     "data": {
      "text/plain": [
       "[('Lionel Messi', 'Paris Saint-Germain'),\n",
       " ('Robert Lewandowski', 'FC Bayern München'),\n",
       " ('Cristiano Ronaldo', 'Manchester United')]"
      ]
     },
     "execution_count": 1,
     "metadata": {},
     "output_type": "execute_result"
    }
   ],
   "source": [
    "# This example shows two iterables being passed into the zip() function\n",
    "\n",
    "player = [\"Lionel Messi\", \"Robert Lewandowski\", \"Cristiano Ronaldo\"]\n",
    "\n",
    "team = [\"Paris Saint-Germain\", \"FC Bayern München\", \"Manchester United\"]\n",
    "\n",
    "# to show the zip object in ipython, I'm showing a list of the tuples\n",
    "\n",
    "list(zip(player,team))\n"
   ]
  },
  {
   "cell_type": "code",
   "execution_count": 2,
   "metadata": {},
   "outputs": [
    {
     "data": {
      "text/plain": [
       "[('Lionel Messi', 'Paris Saint-Germain'),\n",
       " ('Robert Lewandowski', 'FC Bayern München'),\n",
       " ('Cristiano Ronaldo', 'Manchester United')]"
      ]
     },
     "execution_count": 2,
     "metadata": {},
     "output_type": "execute_result"
    }
   ],
   "source": [
    "# This example shows iterables being passed into the zip() function when the passed iterators have different lengths\n",
    "\n",
    "player = [\"Lionel Messi\", \"Robert Lewandowski\", \"Cristiano Ronaldo\", \"Mohamed Salah\"]\n",
    "\n",
    "team = [\"Paris Saint-Germain\", \"FC Bayern München\", \"Manchester United\"]\n",
    "\n",
    "# to show the zip object in ipython, I'm showing a list of the tuples\n",
    "\n",
    "list(zip(player,team))\n",
    "\n",
    "# Since the iterables had different lengths, the item that has the least items dictates the length, hence the output is the same\n"
   ]
  },
  {
   "cell_type": "code",
   "execution_count": 3,
   "metadata": {},
   "outputs": [
    {
     "data": {
      "text/plain": [
       "[('Cristiano Ronaldo', 'Manchester United'),\n",
       " ('Lionel Messi', 'Paris Saint-Germain'),\n",
       " ('Robert Lewandowski', 'FC Bayern München')]"
      ]
     },
     "execution_count": 3,
     "metadata": {},
     "output_type": "execute_result"
    }
   ],
   "source": [
    "## This example shows two iterables being passed into the zip() function\n",
    "\n",
    "player = {\"Lionel Messi\", \"Robert Lewandowski\", \"Cristiano Ronaldo\"}\n",
    "\n",
    "team = {\"Paris Saint-Germain\", \"FC Bayern München\", \"Manchester United\"}\n",
    "\n",
    "# to show the zip object in ipython, I'm showing a list of the tuples\n",
    "\n",
    "list(zip(player,team))\n",
    "\n",
    "# Since the iterables were sets, it's not guaranteed that they will be sequenced in the same way as when the iterables were lists\n"
   ]
  },
  {
   "cell_type": "code",
   "execution_count": null,
   "metadata": {},
   "outputs": [],
   "source": []
  }
 ],
 "metadata": {
  "kernelspec": {
   "display_name": "Python 3",
   "language": "python",
   "name": "python3"
  },
  "language_info": {
   "codemirror_mode": {
    "name": "ipython",
    "version": 3
   },
   "file_extension": ".py",
   "mimetype": "text/x-python",
   "name": "python",
   "nbconvert_exporter": "python",
   "pygments_lexer": "ipython3",
   "version": "3.8.3"
  }
 },
 "nbformat": 4,
 "nbformat_minor": 4
}
